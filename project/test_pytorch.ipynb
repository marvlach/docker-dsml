{
 "cells": [
  {
   "cell_type": "code",
   "execution_count": 1,
   "id": "dd32eb2f",
   "metadata": {},
   "outputs": [
    {
     "name": "stdout",
     "output_type": "stream",
     "text": [
      "Python 3.10.11\n"
     ]
    }
   ],
   "source": [
    "!python --version"
   ]
  },
  {
   "cell_type": "code",
   "execution_count": 2,
   "id": "7f323c05",
   "metadata": {},
   "outputs": [],
   "source": [
    "import torch\n",
    "import numpy as np\n",
    "import pandas as pd\n",
    "import sklearn as learn\n",
    "import matplotlib as plt\n",
    "import pydantic\n",
    "import time\n"
   ]
  },
  {
   "cell_type": "code",
   "execution_count": 3,
   "id": "f0985d7c",
   "metadata": {},
   "outputs": [
    {
     "name": "stdout",
     "output_type": "stream",
     "text": [
      "1.24.3\n",
      "2.0.1\n",
      "2.0.3\n",
      "1.3.0\n",
      "3.7.2\n",
      "2.1.1\n",
      "hello\n"
     ]
    }
   ],
   "source": [
    "print(np.__version__)\n",
    "print(torch.__version__)\n",
    "print(pd.__version__)\n",
    "print(learn.__version__)\n",
    "print(plt.__version__)\n",
    "print(pydantic.__version__)\n",
    "print('hello')"
   ]
  },
  {
   "cell_type": "code",
   "execution_count": 4,
   "id": "b1e7d47d",
   "metadata": {},
   "outputs": [
    {
     "data": {
      "text/plain": [
       "['sm_37',\n",
       " 'sm_50',\n",
       " 'sm_60',\n",
       " 'sm_61',\n",
       " 'sm_70',\n",
       " 'sm_75',\n",
       " 'sm_80',\n",
       " 'sm_86',\n",
       " 'compute_37']"
      ]
     },
     "execution_count": 4,
     "metadata": {},
     "output_type": "execute_result"
    }
   ],
   "source": [
    "torch.cuda.get_arch_list()"
   ]
  },
  {
   "cell_type": "code",
   "execution_count": 5,
   "id": "46c1765f-cedb-4a49-939e-7e319bd55fda",
   "metadata": {},
   "outputs": [
    {
     "name": "stdout",
     "output_type": "stream",
     "text": [
      "NVIDIA GeForce GTX 960M\n"
     ]
    }
   ],
   "source": [
    "for i in range(torch.cuda.device_count()):\n",
    "   print(torch.cuda.get_device_properties(i).name)\n"
   ]
  },
  {
   "cell_type": "code",
   "execution_count": 6,
   "id": "cec97f55",
   "metadata": {},
   "outputs": [],
   "source": [
    "from torch import nn\n",
    "from torch.utils.data import DataLoader\n",
    "from torchvision import datasets\n",
    "from torchvision.transforms import ToTensor"
   ]
  },
  {
   "cell_type": "code",
   "execution_count": 7,
   "id": "ccd15d16",
   "metadata": {},
   "outputs": [],
   "source": [
    "# Download training data from open datasets.\n",
    "training_data = datasets.FashionMNIST(\n",
    "    root=\"data\",\n",
    "    train=True,\n",
    "    download=True,\n",
    "    transform=ToTensor(),\n",
    ")\n",
    "\n",
    "# Download test data from open datasets.\n",
    "test_data = datasets.FashionMNIST(\n",
    "    root=\"data\",\n",
    "    train=False,\n",
    "    download=True,\n",
    "    transform=ToTensor(),\n",
    ")\n"
   ]
  },
  {
   "cell_type": "code",
   "execution_count": 8,
   "id": "8a5bacd0",
   "metadata": {},
   "outputs": [
    {
     "name": "stdout",
     "output_type": "stream",
     "text": [
      "Shape of X [N, C, H, W]: torch.Size([64, 1, 28, 28])\n",
      "Shape of y: torch.Size([64]) torch.int64\n"
     ]
    }
   ],
   "source": [
    "batch_size = 64\n",
    "\n",
    "# Create data loaders.\n",
    "train_dataloader = DataLoader(training_data, batch_size=batch_size)\n",
    "test_dataloader = DataLoader(test_data, batch_size=batch_size)\n",
    "\n",
    "for X, y in test_dataloader:\n",
    "    print(f\"Shape of X [N, C, H, W]: {X.shape}\")\n",
    "    print(f\"Shape of y: {y.shape} {y.dtype}\")\n",
    "    break\n"
   ]
  },
  {
   "cell_type": "code",
   "execution_count": 9,
   "id": "3a35fb9d",
   "metadata": {},
   "outputs": [
    {
     "name": "stdout",
     "output_type": "stream",
     "text": [
      "Using cuda device\n",
      "NeuralNetwork(\n",
      "  (flatten): Flatten(start_dim=1, end_dim=-1)\n",
      "  (linear_relu_stack): Sequential(\n",
      "    (0): Linear(in_features=784, out_features=512, bias=True)\n",
      "    (1): ReLU()\n",
      "    (2): Linear(in_features=512, out_features=512, bias=True)\n",
      "    (3): ReLU()\n",
      "    (4): Linear(in_features=512, out_features=10, bias=True)\n",
      "  )\n",
      ")\n"
     ]
    }
   ],
   "source": [
    "# Get cpu, gpu or mps device for training.\n",
    "device = (\n",
    "    \"cuda\"\n",
    "    if torch.cuda.is_available()\n",
    "    else \"mps\"\n",
    "    if torch.backends.mps.is_available()\n",
    "    else \"cpu\"\n",
    ")\n",
    "print(f\"Using {device} device\")\n",
    "\n",
    "# Define model\n",
    "class NeuralNetwork(nn.Module):\n",
    "    def __init__(self):\n",
    "        super().__init__()\n",
    "        self.flatten = nn.Flatten()\n",
    "        self.linear_relu_stack = nn.Sequential(\n",
    "            nn.Linear(28*28, 512),\n",
    "            nn.ReLU(),\n",
    "            nn.Linear(512, 512),\n",
    "            nn.ReLU(),\n",
    "            nn.Linear(512, 10)\n",
    "        )\n",
    "\n",
    "    def forward(self, x):\n",
    "        x = self.flatten(x)\n",
    "        logits = self.linear_relu_stack(x)\n",
    "        return logits\n",
    "\n",
    "model = NeuralNetwork().to(device)\n",
    "print(model)\n"
   ]
  },
  {
   "cell_type": "code",
   "execution_count": 10,
   "id": "5dec5019",
   "metadata": {},
   "outputs": [],
   "source": [
    "loss_fn = nn.CrossEntropyLoss()\n",
    "optimizer = torch.optim.SGD(model.parameters(), lr=1e-3)"
   ]
  },
  {
   "cell_type": "code",
   "execution_count": 11,
   "id": "5bd0be68",
   "metadata": {},
   "outputs": [],
   "source": [
    "def train(dataloader, model, loss_fn, optimizer):\n",
    "    size = len(dataloader.dataset)\n",
    "    model.train()\n",
    "    for batch, (X, y) in enumerate(dataloader):\n",
    "        X, y = X.to(device), y.to(device)\n",
    "\n",
    "        # Compute prediction error\n",
    "        pred = model(X)\n",
    "        loss = loss_fn(pred, y)\n",
    "\n",
    "        # Backpropagation\n",
    "        loss.backward()\n",
    "        optimizer.step()\n",
    "        optimizer.zero_grad()\n",
    "\n",
    "        if batch % 100 == 0:\n",
    "            loss, current = loss.item(), (batch + 1) * len(X)\n",
    "            print(f\"loss: {loss:>7f}  [{current:>5d}/{size:>5d}]\")"
   ]
  },
  {
   "cell_type": "code",
   "execution_count": 12,
   "id": "c1e940fe",
   "metadata": {},
   "outputs": [],
   "source": [
    "def test(dataloader, model, loss_fn):\n",
    "    size = len(dataloader.dataset)\n",
    "    num_batches = len(dataloader)\n",
    "    model.eval()\n",
    "    test_loss, correct = 0, 0\n",
    "    with torch.no_grad():\n",
    "        for X, y in dataloader:\n",
    "            X, y = X.to(device), y.to(device)\n",
    "            pred = model(X)\n",
    "            test_loss += loss_fn(pred, y).item()\n",
    "            correct += (pred.argmax(1) == y).type(torch.float).sum().item()\n",
    "    test_loss /= num_batches\n",
    "    correct /= size\n",
    "    print(f\"Test Error: \\n Accuracy: {(100*correct):>0.1f}%, Avg loss: {test_loss:>8f} \\n\")"
   ]
  },
  {
   "cell_type": "code",
   "execution_count": 13,
   "id": "2d2db59e",
   "metadata": {
    "scrolled": true
   },
   "outputs": [
    {
     "name": "stdout",
     "output_type": "stream",
     "text": [
      "Epoch 1\n",
      "-------------------------------\n",
      "loss: 2.299385  [   64/60000]\n",
      "loss: 2.287110  [ 6464/60000]\n",
      "loss: 2.273434  [12864/60000]\n",
      "loss: 2.269921  [19264/60000]\n",
      "loss: 2.251559  [25664/60000]\n",
      "loss: 2.219213  [32064/60000]\n",
      "loss: 2.222641  [38464/60000]\n",
      "loss: 2.191802  [44864/60000]\n",
      "loss: 2.191758  [51264/60000]\n",
      "loss: 2.160211  [57664/60000]\n",
      "Test Error: \n",
      " Accuracy: 51.7%, Avg loss: 2.153987 \n",
      "\n",
      "Epoch 2\n",
      "-------------------------------\n",
      "loss: 2.161105  [   64/60000]\n",
      "loss: 2.151319  [ 6464/60000]\n",
      "loss: 2.100444  [12864/60000]\n",
      "loss: 2.117259  [19264/60000]\n",
      "loss: 2.066674  [25664/60000]\n",
      "loss: 2.003061  [32064/60000]\n",
      "loss: 2.030715  [38464/60000]\n",
      "loss: 1.958521  [44864/60000]\n",
      "loss: 1.962524  [51264/60000]\n",
      "loss: 1.888152  [57664/60000]\n",
      "Test Error: \n",
      " Accuracy: 59.6%, Avg loss: 1.888633 \n",
      "\n",
      "Epoch 3\n",
      "-------------------------------\n",
      "loss: 1.919494  [   64/60000]\n",
      "loss: 1.888087  [ 6464/60000]\n",
      "loss: 1.779393  [12864/60000]\n",
      "loss: 1.818852  [19264/60000]\n",
      "loss: 1.705058  [25664/60000]\n",
      "loss: 1.656285  [32064/60000]\n",
      "loss: 1.677597  [38464/60000]\n",
      "loss: 1.588032  [44864/60000]\n",
      "loss: 1.611642  [51264/60000]\n",
      "loss: 1.500135  [57664/60000]\n",
      "Test Error: \n",
      " Accuracy: 61.3%, Avg loss: 1.522737 \n",
      "\n",
      "Epoch 4\n",
      "-------------------------------\n",
      "loss: 1.590669  [   64/60000]\n",
      "loss: 1.551190  [ 6464/60000]\n",
      "loss: 1.411070  [12864/60000]\n",
      "loss: 1.477557  [19264/60000]\n",
      "loss: 1.351257  [25664/60000]\n",
      "loss: 1.353306  [32064/60000]\n",
      "loss: 1.359612  [38464/60000]\n",
      "loss: 1.297479  [44864/60000]\n",
      "loss: 1.330514  [51264/60000]\n",
      "loss: 1.222374  [57664/60000]\n",
      "Test Error: \n",
      " Accuracy: 63.2%, Avg loss: 1.256017 \n",
      "\n",
      "Epoch 5\n",
      "-------------------------------\n",
      "loss: 1.336873  [   64/60000]\n",
      "loss: 1.311598  [ 6464/60000]\n",
      "loss: 1.157008  [12864/60000]\n",
      "loss: 1.253969  [19264/60000]\n",
      "loss: 1.123206  [25664/60000]\n",
      "loss: 1.154823  [32064/60000]\n",
      "loss: 1.165405  [38464/60000]\n",
      "loss: 1.117605  [44864/60000]\n",
      "loss: 1.155309  [51264/60000]\n",
      "loss: 1.061451  [57664/60000]\n",
      "Test Error: \n",
      " Accuracy: 64.5%, Avg loss: 1.091218 \n",
      "\n",
      "Epoch 6\n",
      "-------------------------------\n",
      "loss: 1.166633  [   64/60000]\n",
      "loss: 1.160119  [ 6464/60000]\n",
      "loss: 0.990110  [12864/60000]\n",
      "loss: 1.115573  [19264/60000]\n",
      "loss: 0.983784  [25664/60000]\n",
      "loss: 1.020678  [32064/60000]\n",
      "loss: 1.046136  [38464/60000]\n",
      "loss: 1.003744  [44864/60000]\n",
      "loss: 1.041158  [51264/60000]\n",
      "loss: 0.961420  [57664/60000]\n",
      "Test Error: \n",
      " Accuracy: 66.0%, Avg loss: 0.984685 \n",
      "\n",
      "Epoch 7\n",
      "-------------------------------\n",
      "loss: 1.047336  [   64/60000]\n",
      "loss: 1.060573  [ 6464/60000]\n",
      "loss: 0.874655  [12864/60000]\n",
      "loss: 1.023554  [19264/60000]\n",
      "loss: 0.895922  [25664/60000]\n",
      "loss: 0.925143  [32064/60000]\n",
      "loss: 0.967920  [38464/60000]\n",
      "loss: 0.928692  [44864/60000]\n",
      "loss: 0.961649  [51264/60000]\n",
      "loss: 0.893840  [57664/60000]\n",
      "Test Error: \n",
      " Accuracy: 67.1%, Avg loss: 0.911521 \n",
      "\n",
      "Epoch 8\n",
      "-------------------------------\n",
      "loss: 0.958906  [   64/60000]\n",
      "loss: 0.990172  [ 6464/60000]\n",
      "loss: 0.791669  [12864/60000]\n",
      "loss: 0.957807  [19264/60000]\n",
      "loss: 0.836882  [25664/60000]\n",
      "loss: 0.854249  [32064/60000]\n",
      "loss: 0.912332  [38464/60000]\n",
      "loss: 0.877675  [44864/60000]\n",
      "loss: 0.903601  [51264/60000]\n",
      "loss: 0.844523  [57664/60000]\n",
      "Test Error: \n",
      " Accuracy: 68.4%, Avg loss: 0.858419 \n",
      "\n",
      "Epoch 9\n",
      "-------------------------------\n",
      "loss: 0.890388  [   64/60000]\n",
      "loss: 0.936841  [ 6464/60000]\n",
      "loss: 0.729813  [12864/60000]\n",
      "loss: 0.908413  [19264/60000]\n",
      "loss: 0.794426  [25664/60000]\n",
      "loss: 0.800303  [32064/60000]\n",
      "loss: 0.870092  [38464/60000]\n",
      "loss: 0.841783  [44864/60000]\n",
      "loss: 0.859800  [51264/60000]\n",
      "loss: 0.806531  [57664/60000]\n",
      "Test Error: \n",
      " Accuracy: 69.5%, Avg loss: 0.818006 \n",
      "\n",
      "Epoch 10\n",
      "-------------------------------\n",
      "loss: 0.835365  [   64/60000]\n",
      "loss: 0.893995  [ 6464/60000]\n",
      "loss: 0.681720  [12864/60000]\n",
      "loss: 0.870012  [19264/60000]\n",
      "loss: 0.762245  [25664/60000]\n",
      "loss: 0.758802  [32064/60000]\n",
      "loss: 0.836150  [38464/60000]\n",
      "loss: 0.815172  [44864/60000]\n",
      "loss: 0.825595  [51264/60000]\n",
      "loss: 0.776059  [57664/60000]\n",
      "Test Error: \n",
      " Accuracy: 70.9%, Avg loss: 0.785938 \n",
      "\n",
      "77.04315185546875\n"
     ]
    }
   ],
   "source": [
    "epochs = 10\n",
    "start = time.time()\n",
    "for t in range(epochs):\n",
    "    print(f\"Epoch {t+1}\\n-------------------------------\")\n",
    "    train(train_dataloader, model, loss_fn, optimizer)\n",
    "    test(test_dataloader, model, loss_fn)\n",
    "stop = time.time()\n",
    "print(stop - start)"
   ]
  },
  {
   "cell_type": "code",
   "execution_count": null,
   "id": "aa323fd1",
   "metadata": {},
   "outputs": [],
   "source": []
  },
  {
   "cell_type": "code",
   "execution_count": null,
   "id": "7ecdf2bd",
   "metadata": {},
   "outputs": [],
   "source": []
  }
 ],
 "metadata": {
  "kernelspec": {
   "display_name": "Python 3 (ipykernel)",
   "language": "python",
   "name": "python3"
  },
  "language_info": {
   "codemirror_mode": {
    "name": "ipython",
    "version": 3
   },
   "file_extension": ".py",
   "mimetype": "text/x-python",
   "name": "python",
   "nbconvert_exporter": "python",
   "pygments_lexer": "ipython3",
   "version": "3.10.11"
  }
 },
 "nbformat": 4,
 "nbformat_minor": 5
}
