{
 "cells": [
  {
   "cell_type": "code",
   "execution_count": 27,
   "id": "dd32eb2f",
   "metadata": {},
   "outputs": [
    {
     "name": "stdout",
     "output_type": "stream",
     "text": [
      "Python 3.10.11\n"
     ]
    }
   ],
   "source": [
    "!python --version"
   ]
  },
  {
   "cell_type": "code",
   "execution_count": 28,
   "id": "7f323c05",
   "metadata": {},
   "outputs": [],
   "source": [
    "import torch\n",
    "import numpy as np\n",
    "import pandas as pd\n",
    "import sklearn as learn\n",
    "import matplotlib as plt\n",
    "import pydantic\n",
    "import time\n"
   ]
  },
  {
   "cell_type": "code",
   "execution_count": 29,
   "id": "f0985d7c",
   "metadata": {},
   "outputs": [
    {
     "name": "stdout",
     "output_type": "stream",
     "text": [
      "1.24.3\n",
      "2.0.1\n",
      "2.0.3\n",
      "1.3.0\n",
      "3.7.2\n",
      "2.1.1\n",
      "hello\n"
     ]
    }
   ],
   "source": [
    "print(np.__version__)\n",
    "print(torch.__version__)\n",
    "print(pd.__version__)\n",
    "print(learn.__version__)\n",
    "print(plt.__version__)\n",
    "print(pydantic.__version__)\n",
    "print('hello')"
   ]
  },
  {
   "cell_type": "code",
   "execution_count": 30,
   "id": "b1e7d47d",
   "metadata": {},
   "outputs": [
    {
     "data": {
      "text/plain": [
       "['sm_37',\n",
       " 'sm_50',\n",
       " 'sm_60',\n",
       " 'sm_61',\n",
       " 'sm_70',\n",
       " 'sm_75',\n",
       " 'sm_80',\n",
       " 'sm_86',\n",
       " 'compute_37']"
      ]
     },
     "execution_count": 30,
     "metadata": {},
     "output_type": "execute_result"
    }
   ],
   "source": [
    "torch.cuda.get_arch_list()"
   ]
  },
  {
   "cell_type": "code",
   "execution_count": 31,
   "id": "46c1765f-cedb-4a49-939e-7e319bd55fda",
   "metadata": {},
   "outputs": [
    {
     "name": "stdout",
     "output_type": "stream",
     "text": [
      "NVIDIA GeForce GTX 960M\n"
     ]
    }
   ],
   "source": [
    "for i in range(torch.cuda.device_count()):\n",
    "   print(torch.cuda.get_device_properties(i).name)\n"
   ]
  },
  {
   "cell_type": "code",
   "execution_count": 32,
   "id": "cec97f55",
   "metadata": {},
   "outputs": [],
   "source": [
    "from torch import nn\n",
    "from torch.utils.data import DataLoader\n",
    "from torchvision import datasets\n",
    "from torchvision.transforms import ToTensor"
   ]
  },
  {
   "cell_type": "code",
   "execution_count": 33,
   "id": "ccd15d16",
   "metadata": {},
   "outputs": [],
   "source": [
    "# Download training data from open datasets.\n",
    "training_data = datasets.FashionMNIST(\n",
    "    root=\"data\",\n",
    "    train=True,\n",
    "    download=True,\n",
    "    transform=ToTensor(),\n",
    ")\n",
    "\n",
    "# Download test data from open datasets.\n",
    "test_data = datasets.FashionMNIST(\n",
    "    root=\"data\",\n",
    "    train=False,\n",
    "    download=True,\n",
    "    transform=ToTensor(),\n",
    ")\n"
   ]
  },
  {
   "cell_type": "code",
   "execution_count": 34,
   "id": "8a5bacd0",
   "metadata": {},
   "outputs": [
    {
     "name": "stdout",
     "output_type": "stream",
     "text": [
      "Shape of X [N, C, H, W]: torch.Size([64, 1, 28, 28])\n",
      "Shape of y: torch.Size([64]) torch.int64\n"
     ]
    }
   ],
   "source": [
    "batch_size = 64\n",
    "\n",
    "# Create data loaders.\n",
    "train_dataloader = DataLoader(training_data, batch_size=batch_size)\n",
    "test_dataloader = DataLoader(test_data, batch_size=batch_size)\n",
    "\n",
    "for X, y in test_dataloader:\n",
    "    print(f\"Shape of X [N, C, H, W]: {X.shape}\")\n",
    "    print(f\"Shape of y: {y.shape} {y.dtype}\")\n",
    "    break\n"
   ]
  },
  {
   "cell_type": "code",
   "execution_count": 35,
   "id": "3a35fb9d",
   "metadata": {},
   "outputs": [
    {
     "name": "stdout",
     "output_type": "stream",
     "text": [
      "Using cuda device\n",
      "NeuralNetwork(\n",
      "  (flatten): Flatten(start_dim=1, end_dim=-1)\n",
      "  (linear_relu_stack): Sequential(\n",
      "    (0): Linear(in_features=784, out_features=512, bias=True)\n",
      "    (1): ReLU()\n",
      "    (2): Linear(in_features=512, out_features=512, bias=True)\n",
      "    (3): ReLU()\n",
      "    (4): Linear(in_features=512, out_features=10, bias=True)\n",
      "  )\n",
      ")\n"
     ]
    }
   ],
   "source": [
    "# Get cpu, gpu or mps device for training.\n",
    "device = (\n",
    "    \"cuda\"\n",
    "    if torch.cuda.is_available()\n",
    "    else \"mps\"\n",
    "    if torch.backends.mps.is_available()\n",
    "    else \"cpu\"\n",
    ")\n",
    "print(f\"Using {device} device\")\n",
    "\n",
    "# Define model\n",
    "class NeuralNetwork(nn.Module):\n",
    "    def __init__(self):\n",
    "        super().__init__()\n",
    "        self.flatten = nn.Flatten()\n",
    "        self.linear_relu_stack = nn.Sequential(\n",
    "            nn.Linear(28*28, 512),\n",
    "            nn.ReLU(),\n",
    "            nn.Linear(512, 512),\n",
    "            nn.ReLU(),\n",
    "            nn.Linear(512, 10)\n",
    "        )\n",
    "\n",
    "    def forward(self, x):\n",
    "        x = self.flatten(x)\n",
    "        logits = self.linear_relu_stack(x)\n",
    "        return logits\n",
    "\n",
    "model = NeuralNetwork().to(device)\n",
    "print(model)\n"
   ]
  },
  {
   "cell_type": "code",
   "execution_count": 36,
   "id": "5dec5019",
   "metadata": {},
   "outputs": [],
   "source": [
    "loss_fn = nn.CrossEntropyLoss()\n",
    "optimizer = torch.optim.SGD(model.parameters(), lr=1e-3)"
   ]
  },
  {
   "cell_type": "code",
   "execution_count": 37,
   "id": "5bd0be68",
   "metadata": {},
   "outputs": [],
   "source": [
    "def train(dataloader, model, loss_fn, optimizer):\n",
    "    size = len(dataloader.dataset)\n",
    "    model.train()\n",
    "    for batch, (X, y) in enumerate(dataloader):\n",
    "        X, y = X.to(device), y.to(device)\n",
    "\n",
    "        # Compute prediction error\n",
    "        pred = model(X)\n",
    "        loss = loss_fn(pred, y)\n",
    "\n",
    "        # Backpropagation\n",
    "        loss.backward()\n",
    "        optimizer.step()\n",
    "        optimizer.zero_grad()\n",
    "\n",
    "        if batch % 100 == 0:\n",
    "            loss, current = loss.item(), (batch + 1) * len(X)\n",
    "            print(f\"loss: {loss:>7f}  [{current:>5d}/{size:>5d}]\")"
   ]
  },
  {
   "cell_type": "code",
   "execution_count": 38,
   "id": "c1e940fe",
   "metadata": {},
   "outputs": [],
   "source": [
    "def test(dataloader, model, loss_fn):\n",
    "    size = len(dataloader.dataset)\n",
    "    num_batches = len(dataloader)\n",
    "    model.eval()\n",
    "    test_loss, correct = 0, 0\n",
    "    with torch.no_grad():\n",
    "        for X, y in dataloader:\n",
    "            X, y = X.to(device), y.to(device)\n",
    "            pred = model(X)\n",
    "            test_loss += loss_fn(pred, y).item()\n",
    "            correct += (pred.argmax(1) == y).type(torch.float).sum().item()\n",
    "    test_loss /= num_batches\n",
    "    correct /= size\n",
    "    print(f\"Test Error: \\n Accuracy: {(100*correct):>0.1f}%, Avg loss: {test_loss:>8f} \\n\")"
   ]
  },
  {
   "cell_type": "code",
   "execution_count": 39,
   "id": "2d2db59e",
   "metadata": {
    "scrolled": true
   },
   "outputs": [
    {
     "name": "stdout",
     "output_type": "stream",
     "text": [
      "Epoch 1\n",
      "-------------------------------\n",
      "loss: 2.311163  [   64/60000]\n",
      "loss: 2.294985  [ 6464/60000]\n",
      "loss: 2.278280  [12864/60000]\n",
      "loss: 2.274232  [19264/60000]\n",
      "loss: 2.250019  [25664/60000]\n",
      "loss: 2.236108  [32064/60000]\n",
      "loss: 2.233609  [38464/60000]\n",
      "loss: 2.205967  [44864/60000]\n",
      "loss: 2.203595  [51264/60000]\n",
      "loss: 2.178077  [57664/60000]\n",
      "Test Error: \n",
      " Accuracy: 47.9%, Avg loss: 2.170032 \n",
      "\n",
      "Epoch 2\n",
      "-------------------------------\n",
      "loss: 2.180527  [   64/60000]\n",
      "loss: 2.170811  [ 6464/60000]\n",
      "loss: 2.116231  [12864/60000]\n",
      "loss: 2.131195  [19264/60000]\n",
      "loss: 2.075464  [25664/60000]\n",
      "loss: 2.031966  [32064/60000]\n",
      "loss: 2.048534  [38464/60000]\n",
      "loss: 1.979299  [44864/60000]\n",
      "loss: 1.976770  [51264/60000]\n",
      "loss: 1.910845  [57664/60000]\n",
      "Test Error: \n",
      " Accuracy: 58.2%, Avg loss: 1.910121 \n",
      "\n",
      "Epoch 3\n",
      "-------------------------------\n",
      "loss: 1.942414  [   64/60000]\n",
      "loss: 1.917210  [ 6464/60000]\n",
      "loss: 1.796360  [12864/60000]\n",
      "loss: 1.832455  [19264/60000]\n",
      "loss: 1.719087  [25664/60000]\n",
      "loss: 1.677275  [32064/60000]\n",
      "loss: 1.692021  [38464/60000]\n",
      "loss: 1.597957  [44864/60000]\n",
      "loss: 1.614430  [51264/60000]\n",
      "loss: 1.512706  [57664/60000]\n",
      "Test Error: \n",
      " Accuracy: 60.8%, Avg loss: 1.530622 \n",
      "\n",
      "Epoch 4\n",
      "-------------------------------\n",
      "loss: 1.596011  [   64/60000]\n",
      "loss: 1.565562  [ 6464/60000]\n",
      "loss: 1.406617  [12864/60000]\n",
      "loss: 1.477887  [19264/60000]\n",
      "loss: 1.352163  [25664/60000]\n",
      "loss: 1.350634  [32064/60000]\n",
      "loss: 1.365818  [38464/60000]\n",
      "loss: 1.293334  [44864/60000]\n",
      "loss: 1.323928  [51264/60000]\n",
      "loss: 1.228683  [57664/60000]\n",
      "Test Error: \n",
      " Accuracy: 63.2%, Avg loss: 1.253685 \n",
      "\n",
      "Epoch 5\n",
      "-------------------------------\n",
      "loss: 1.329070  [   64/60000]\n",
      "loss: 1.315168  [ 6464/60000]\n",
      "loss: 1.143363  [12864/60000]\n",
      "loss: 1.246849  [19264/60000]\n",
      "loss: 1.117297  [25664/60000]\n",
      "loss: 1.143219  [32064/60000]\n",
      "loss: 1.170890  [38464/60000]\n",
      "loss: 1.109476  [44864/60000]\n",
      "loss: 1.145265  [51264/60000]\n",
      "loss: 1.067506  [57664/60000]\n",
      "Test Error: \n",
      " Accuracy: 64.5%, Avg loss: 1.086292 \n",
      "\n",
      "Epoch 6\n",
      "-------------------------------\n",
      "loss: 1.155412  [   64/60000]\n",
      "loss: 1.161708  [ 6464/60000]\n",
      "loss: 0.974541  [12864/60000]\n",
      "loss: 1.106433  [19264/60000]\n",
      "loss: 0.975001  [25664/60000]\n",
      "loss: 1.007169  [32064/60000]\n",
      "loss: 1.053846  [38464/60000]\n",
      "loss: 0.994520  [44864/60000]\n",
      "loss: 1.030595  [51264/60000]\n",
      "loss: 0.969482  [57664/60000]\n",
      "Test Error: \n",
      " Accuracy: 65.6%, Avg loss: 0.980450 \n",
      "\n",
      "Epoch 7\n",
      "-------------------------------\n",
      "loss: 1.036814  [   64/60000]\n",
      "loss: 1.064587  [ 6464/60000]\n",
      "loss: 0.860791  [12864/60000]\n",
      "loss: 1.015131  [19264/60000]\n",
      "loss: 0.886879  [25664/60000]\n",
      "loss: 0.913296  [32064/60000]\n",
      "loss: 0.979205  [38464/60000]\n",
      "loss: 0.920618  [44864/60000]\n",
      "loss: 0.952830  [51264/60000]\n",
      "loss: 0.905042  [57664/60000]\n",
      "Test Error: \n",
      " Accuracy: 66.8%, Avg loss: 0.909613 \n",
      "\n",
      "Epoch 8\n",
      "-------------------------------\n",
      "loss: 0.951234  [   64/60000]\n",
      "loss: 0.998098  [ 6464/60000]\n",
      "loss: 0.780410  [12864/60000]\n",
      "loss: 0.951665  [19264/60000]\n",
      "loss: 0.828884  [25664/60000]\n",
      "loss: 0.845318  [32064/60000]\n",
      "loss: 0.927730  [38464/60000]\n",
      "loss: 0.871599  [44864/60000]\n",
      "loss: 0.897646  [51264/60000]\n",
      "loss: 0.859007  [57664/60000]\n",
      "Test Error: \n",
      " Accuracy: 68.0%, Avg loss: 0.859203 \n",
      "\n",
      "Epoch 9\n",
      "-------------------------------\n",
      "loss: 0.886020  [   64/60000]\n",
      "loss: 0.948687  [ 6464/60000]\n",
      "loss: 0.720908  [12864/60000]\n",
      "loss: 0.904748  [19264/60000]\n",
      "loss: 0.787782  [25664/60000]\n",
      "loss: 0.794502  [32064/60000]\n",
      "loss: 0.888909  [38464/60000]\n",
      "loss: 0.837403  [44864/60000]\n",
      "loss: 0.856938  [51264/60000]\n",
      "loss: 0.823979  [57664/60000]\n",
      "Test Error: \n",
      " Accuracy: 69.3%, Avg loss: 0.821268 \n",
      "\n",
      "Epoch 10\n",
      "-------------------------------\n",
      "loss: 0.834592  [   64/60000]\n",
      "loss: 0.909258  [ 6464/60000]\n",
      "loss: 0.675320  [12864/60000]\n",
      "loss: 0.868747  [19264/60000]\n",
      "loss: 0.756634  [25664/60000]\n",
      "loss: 0.755792  [32064/60000]\n",
      "loss: 0.857694  [38464/60000]\n",
      "loss: 0.812546  [44864/60000]\n",
      "loss: 0.825445  [51264/60000]\n",
      "loss: 0.795704  [57664/60000]\n",
      "Test Error: \n",
      " Accuracy: 70.4%, Avg loss: 0.791307 \n",
      "\n",
      "74.01660680770874\n"
     ]
    }
   ],
   "source": [
    "epochs = 10\n",
    "start = time.time()\n",
    "for t in range(epochs):\n",
    "    print(f\"Epoch {t+1}\\n-------------------------------\")\n",
    "    train(train_dataloader, model, loss_fn, optimizer)\n",
    "    test(test_dataloader, model, loss_fn)\n",
    "stop = time.time()\n",
    "print(stop - start)"
   ]
  },
  {
   "cell_type": "code",
   "execution_count": null,
   "id": "aa323fd1",
   "metadata": {},
   "outputs": [],
   "source": []
  },
  {
   "cell_type": "code",
   "execution_count": null,
   "id": "7ecdf2bd",
   "metadata": {},
   "outputs": [],
   "source": []
  }
 ],
 "metadata": {
  "kernelspec": {
   "display_name": "Python 3 (ipykernel)",
   "language": "python",
   "name": "python3"
  },
  "language_info": {
   "codemirror_mode": {
    "name": "ipython",
    "version": 3
   },
   "file_extension": ".py",
   "mimetype": "text/x-python",
   "name": "python",
   "nbconvert_exporter": "python",
   "pygments_lexer": "ipython3",
   "version": "3.10.11"
  }
 },
 "nbformat": 4,
 "nbformat_minor": 5
}
